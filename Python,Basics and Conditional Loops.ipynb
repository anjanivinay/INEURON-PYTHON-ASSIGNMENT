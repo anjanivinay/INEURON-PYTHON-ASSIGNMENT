{
 "cells": [
  {
   "cell_type": "code",
   "execution_count": 2,
   "metadata": {},
   "outputs": [
    {
     "name": "stdout",
     "output_type": "stream",
     "text": [
      "2030,2065,2100,2135,2170,2205,2240,2275,2310,2345,2380,2415,2450,2485,2520,2555,2590,2625,2660,2695,2730,2765,2800,2835,2870,2905,2940,2975,3010,3045,3080,3115,3150,3185\n"
     ]
    }
   ],
   "source": [
    "l=[]\n",
    "for i in range(2000, 3201):\n",
    "    if (i%7==0) and (i%5==0):\n",
    "        l.append(str(i))\n",
    "print (','.join(l))\n"
   ]
  },
  {
   "cell_type": "code",
   "execution_count": 3,
   "metadata": {},
   "outputs": [
    {
     "name": "stdout",
     "output_type": "stream",
     "text": [
      "Enter your First Name : Anjani \n",
      "Enter your Last Name : Vinay\n",
      "Vinay Anjani \n"
     ]
    }
   ],
   "source": [
    "#Program to find the words of name in reverse order\n",
    "first_name = input(\"Enter your First Name : \")\n",
    "last_name = input(\"Enter your Last Name : \")\n",
    "print (last_name + \" \" + first_name)"
   ]
  },
  {
   "cell_type": "code",
   "execution_count": 4,
   "metadata": {},
   "outputs": [
    {
     "name": "stdout",
     "output_type": "stream",
     "text": [
      "The volume of the sphere is:  904.7786842338603\n"
     ]
    }
   ],
   "source": [
    "#Program for Volume of Sphere of diameter 12cm\n",
    "pi = 3.1415926535897931\n",
    "d= 12\n",
    "r = d/2\n",
    "V= 4/3*pi* r**3\n",
    "print('The volume of the sphere is: ',V)"
   ]
  },
  {
   "cell_type": "code",
   "execution_count": null,
   "metadata": {},
   "outputs": [],
   "source": []
  }
 ],
 "metadata": {
  "kernelspec": {
   "display_name": "Python 3",
   "language": "python",
   "name": "python3"
  },
  "language_info": {
   "codemirror_mode": {
    "name": "ipython",
    "version": 3
   },
   "file_extension": ".py",
   "mimetype": "text/x-python",
   "name": "python",
   "nbconvert_exporter": "python",
   "pygments_lexer": "ipython3",
   "version": "3.7.6"
  }
 },
 "nbformat": 4,
 "nbformat_minor": 4
}
